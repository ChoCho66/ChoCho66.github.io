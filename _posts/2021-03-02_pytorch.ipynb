{
 "cells": [
  {
   "cell_type": "code",
   "execution_count": 1,
   "metadata": {
    "ExecuteTime": {
     "end_time": "2021-03-03T04:50:11.371690Z",
     "start_time": "2021-03-03T04:50:09.080656Z"
    },
    "executionInfo": {
     "elapsed": 3909,
     "status": "ok",
     "timestamp": 1614690224312,
     "user": {
      "displayName": "卓冠宇",
      "photoUrl": "",
      "userId": "05897211297182835965"
     },
     "user_tz": -480
    },
    "id": "Ewn-L5MwwWQF"
   },
   "outputs": [],
   "source": [
    "import os, sys\n",
    "\n",
    "import numpy as np\n",
    "import pandas as pd\n",
    "\n",
    "# %% 深度學習套件 deep learning related \n",
    "import torch\n",
    "import torch.nn as nn\n",
    "import torch.nn.functional as F\n",
    "from torch.utils.data import DataLoader, Dataset\n",
    "from torch.autograd import Variable\n",
    "\n",
    "\n",
    "# # %% 視覺化/製圖套件 visualization / plotting\n",
    "# # MacOSX 比較麻煩⋯⋯\n",
    "# from platform import system\n",
    "# if system() == \"Darwin\":\n",
    "#     import matplotlib\n",
    "#     matplotlib.use('TkAgg')\n",
    "import matplotlib.pyplot as plt\n",
    "\n",
    "# %% 圖片處理套件 CV related\n",
    "import cv2\n",
    "from PIL import Image\n",
    "import torchvision\n",
    "import torchvision.transforms as transforms\n",
    "\n",
    "# %% 文字處理套件 NLP related\n",
    "# from gensim.models import word2vec\n",
    "\n",
    "# %% 音訊處理套件 Speech related\n",
    "# import torchaudio\n",
    "# import librosa\n",
    "\n",
    "# %% 好用的進度條和排版工具\n",
    "##   progress bar and pretty print\n",
    "from tqdm import tqdm\n"
   ]
  },
  {
   "cell_type": "code",
   "execution_count": 2,
   "metadata": {
    "ExecuteTime": {
     "end_time": "2021-03-03T04:50:11.387690Z",
     "start_time": "2021-03-03T04:50:11.377696Z"
    },
    "executionInfo": {
     "elapsed": 424,
     "status": "ok",
     "timestamp": 1614691017019,
     "user": {
      "displayName": "卓冠宇",
      "photoUrl": "",
      "userId": "05897211297182835965"
     },
     "user_tz": -480
    },
    "id": "awV367iAFSHm"
   },
   "outputs": [],
   "source": [
    "def cho_p(*x):\n",
    "    print()\n",
    "    for i in list(x):\n",
    "        print(i)\n",
    "        print()\n",
    "\n",
    "def cho_t(*x):\n",
    "    print()\n",
    "    for i in list(x):\n",
    "        print(type(i))\n",
    "        print()"
   ]
  },
  {
   "cell_type": "code",
   "execution_count": 3,
   "metadata": {
    "ExecuteTime": {
     "end_time": "2021-03-03T04:50:11.435845Z",
     "start_time": "2021-03-03T04:50:11.392689Z"
    },
    "colab": {
     "base_uri": "https://localhost:8080/"
    },
    "executionInfo": {
     "elapsed": 5385,
     "status": "ok",
     "timestamp": 1614690234839,
     "user": {
      "displayName": "卓冠宇",
      "photoUrl": "",
      "userId": "05897211297182835965"
     },
     "user_tz": -480
    },
    "id": "g_nliL37Bj0V",
    "outputId": "0c0bc052-24a1-4bae-b769-9ed99706ee47",
    "scrolled": true
   },
   "outputs": [],
   "source": [
    "#!pip install torchviz\n",
    "from torchviz import make_dot, make_dot_from_trace"
   ]
  },
  {
   "cell_type": "markdown",
   "metadata": {
    "id": "xQXMtKeuwm0E"
   },
   "source": [
    "---"
   ]
  },
  {
   "cell_type": "code",
   "execution_count": 4,
   "metadata": {
    "ExecuteTime": {
     "end_time": "2021-03-03T04:51:04.034876Z",
     "start_time": "2021-03-03T04:51:03.996236Z"
    },
    "colab": {
     "base_uri": "https://localhost:8080/"
    },
    "executionInfo": {
     "elapsed": 601,
     "status": "ok",
     "timestamp": 1614690460700,
     "user": {
      "displayName": "卓冠宇",
      "photoUrl": "",
      "userId": "05897211297182835965"
     },
     "user_tz": -480
    },
    "id": "U3aZKMlUwfeG",
    "outputId": "4589880f-4396-4557-ad47-91510db29462"
   },
   "outputs": [
    {
     "name": "stdout",
     "output_type": "stream",
     "text": [
      "\n",
      "Linear(in_features=1, out_features=1, bias=True)\n",
      "\n",
      "Parameter containing:\n",
      "tensor([[-0.5244]], requires_grad=True)\n",
      "\n",
      "Parameter containing:\n",
      "tensor([-0.8852], requires_grad=True)\n",
      "\n",
      "<generator object Module.parameters at 0x0000016D3E34DA48>\n",
      "\n",
      "<bound method Module.parameters of Linear(in_features=1, out_features=1, bias=True)>\n",
      "\n"
     ]
    }
   ],
   "source": [
    "layer1 = nn.Linear(1, 1)\n",
    "#layer1.weight.requires_grad = False \n",
    "cho_p(layer1, layer1.weight, layer1.bias, layer1.parameters(), layer1.parameters)"
   ]
  },
  {
   "cell_type": "markdown",
   "metadata": {
    "id": "Am6qs-inDZWW"
   },
   "source": [
    "## 生成 $y = wx + b$ 的 training data and label"
   ]
  },
  {
   "cell_type": "code",
   "execution_count": 5,
   "metadata": {
    "ExecuteTime": {
     "end_time": "2021-03-03T04:51:04.098445Z",
     "start_time": "2021-03-03T04:51:04.070378Z"
    },
    "colab": {
     "base_uri": "https://localhost:8080/"
    },
    "executionInfo": {
     "elapsed": 420,
     "status": "ok",
     "timestamp": 1614691799486,
     "user": {
      "displayName": "卓冠宇",
      "photoUrl": "",
      "userId": "05897211297182835965"
     },
     "user_tz": -480
    },
    "id": "7eMJG1JPIJB3",
    "outputId": "fde145c6-1732-4c19-847e-9c0b440d540b"
   },
   "outputs": [
    {
     "data": {
      "text/plain": [
       "tensor([-0.0206,  0.5009,  1.0722, -0.7258, -1.0150, -1.2813, -1.7274,  0.3237,\n",
       "        -0.1923,  0.9217,  0.0713, -1.6072,  2.4942,  0.7655,  0.3800, -0.3752,\n",
       "        -1.4215,  0.7925,  0.8755,  1.8539, -1.0536, -2.1190, -0.4993,  1.4558,\n",
       "         1.1514,  0.1055, -1.4738,  0.1416,  0.3180, -1.5035,  0.1626,  2.1911,\n",
       "        -0.5601, -0.8606,  0.8095,  2.1084,  0.8323, -0.5320, -0.7419, -1.6692,\n",
       "        -0.2652, -0.0680, -1.0166,  0.2585, -1.4397, -1.8078,  1.1117, -0.0127,\n",
       "        -0.5347, -1.1474,  1.1417,  0.3245, -0.3623, -0.8134, -1.2036,  0.9984,\n",
       "        -1.8413, -0.1071, -1.4682,  0.7022, -0.2649, -1.1823, -0.3660,  0.4807,\n",
       "        -1.3235, -0.6326, -1.2500, -2.1648, -0.7627, -2.3136, -0.4634, -0.6332,\n",
       "        -0.1904, -1.0441,  1.1367, -0.0177, -0.1684, -1.3396,  0.1706, -0.9408,\n",
       "         0.7068, -1.0328, -0.1850, -0.7639, -1.5670, -0.5530, -0.8753, -1.7688,\n",
       "        -0.7732, -0.1734, -0.2727, -1.4064, -0.4088,  0.7577, -0.0837,  1.1487,\n",
       "         1.1002,  0.3226, -0.3916,  0.1797])"
      ]
     },
     "execution_count": 5,
     "metadata": {},
     "output_type": "execute_result"
    }
   ],
   "source": [
    "torch.randn(100,)"
   ]
  },
  {
   "cell_type": "code",
   "execution_count": 6,
   "metadata": {
    "ExecuteTime": {
     "end_time": "2021-03-03T04:51:04.114392Z",
     "start_time": "2021-03-03T04:51:04.100422Z"
    },
    "executionInfo": {
     "elapsed": 418,
     "status": "ok",
     "timestamp": 1614693442579,
     "user": {
      "displayName": "卓冠宇",
      "photoUrl": "",
      "userId": "05897211297182835965"
     },
     "user_tz": -480
    },
    "id": "MBWm8N7tCrgf"
   },
   "outputs": [],
   "source": [
    "import numpy as np\n",
    "from matplotlib import pyplot as plt\n",
    "np.random.seed(7) # 用來確保每次生成的隨機資料是一樣的，否則訓練結果無法比較\n",
    "\n",
    "x = np.random.rand(10000, 1)\n",
    "y = 5 * x + 2 + .2 * np.random.randn(10000, 1) # randn 的 n 為 normal distribution"
   ]
  },
  {
   "cell_type": "code",
   "execution_count": 7,
   "metadata": {
    "ExecuteTime": {
     "end_time": "2021-03-03T04:51:04.130400Z",
     "start_time": "2021-03-03T04:51:04.116377Z"
    },
    "colab": {
     "base_uri": "https://localhost:8080/"
    },
    "executionInfo": {
     "elapsed": 983,
     "status": "ok",
     "timestamp": 1614693719409,
     "user": {
      "displayName": "卓冠宇",
      "photoUrl": "",
      "userId": "05897211297182835965"
     },
     "user_tz": -480
    },
    "id": "2I7oKKXiDvj7",
    "outputId": "6ab1fedb-bceb-45d6-ecdd-8621e5c30968"
   },
   "outputs": [
    {
     "name": "stdout",
     "output_type": "stream",
     "text": [
      "\n",
      "Linear(in_features=1, out_features=1, bias=True)\n",
      "\n",
      "Parameter containing:\n",
      "tensor([[0.7158]], requires_grad=True)\n",
      "\n",
      "Parameter containing:\n",
      "tensor([-0.5922], requires_grad=True)\n",
      "\n",
      "<generator object Module.parameters at 0x0000016D42E107C8>\n",
      "\n"
     ]
    }
   ],
   "source": [
    "small_model = nn.Linear(1, 1)\n",
    "cho_p(small_model, small_model.weight, small_model.bias, small_model.parameters()) # , small_model.parameters)"
   ]
  },
  {
   "cell_type": "code",
   "execution_count": 8,
   "metadata": {
    "ExecuteTime": {
     "end_time": "2021-03-03T04:51:05.993200Z",
     "start_time": "2021-03-03T04:51:04.132383Z"
    },
    "colab": {
     "base_uri": "https://localhost:8080/"
    },
    "executionInfo": {
     "elapsed": 3246,
     "status": "ok",
     "timestamp": 1614694399868,
     "user": {
      "displayName": "卓冠宇",
      "photoUrl": "",
      "userId": "05897211297182835965"
     },
     "user_tz": -480
    },
    "id": "wudnm0joOM1c",
    "outputId": "b28553a9-77c0-4d81-f004-c1fd32935377"
   },
   "outputs": [
    {
     "name": "stdout",
     "output_type": "stream",
     "text": [
      "w:  0.5863444805145264  b:  0.09398031234741211\n",
      "\n",
      "0\n",
      "w:  0.5898919701576233  b:  0.14046955108642578\n",
      "Loss :  5.403123378753662\n",
      "\n",
      "1000\n",
      "w:  4.323822975158691  b:  2.3504433631896973\n",
      "Loss :  0.009650561958551407\n",
      "\n",
      "2000\n",
      "w:  4.800905227661133  b:  2.101433753967285\n",
      "Loss :  0.018129272386431694\n",
      "\n",
      "3000\n",
      "w:  4.937617778778076  b:  2.016845703125\n",
      "Loss :  0.11228221654891968\n",
      "\n",
      "4000\n",
      "w:  4.986978530883789  b:  2.030837059020996\n",
      "Loss :  0.03493896871805191\n",
      "\n",
      "5000\n",
      "w:  4.9838714599609375  b:  2.024007797241211\n",
      "Loss :  0.0038880917709320784\n",
      "\n",
      "6000\n",
      "w:  4.994313716888428  b:  2.030492067337036\n",
      "Loss :  0.015956833958625793\n",
      "\n",
      "7000\n",
      "w:  4.972951412200928  b:  1.9860724210739136\n",
      "Loss :  0.16605257987976074\n",
      "\n",
      "8000\n",
      "w:  4.997638702392578  b:  2.046839714050293\n",
      "Loss :  0.282004177570343\n",
      "\n",
      "9000\n",
      "w:  5.003909587860107  b:  2.0204761028289795\n",
      "Loss :  0.016852084547281265\n",
      "\n",
      "w:  4.967189311981201  b:  1.9912008047103882\n",
      "Loss:  0.019613582640886307\n"
     ]
    }
   ],
   "source": [
    "small_model = nn.Linear(1, 1)\n",
    "optim = torch.optim.SGD(\n",
    "    small_model.parameters(), lr=1e-2)\n",
    "mse_loss = nn.MSELoss()\n",
    "print(\"w: \",small_model.weight.item(),\" b: \", small_model.bias.item())\n",
    "\n",
    "for i in range(len(x)):\n",
    "    optim.zero_grad()\n",
    "    xi = torch.FloatTensor([x[i]])\n",
    "    yi = torch.FloatTensor([y[i]])\n",
    "    loss = mse_loss(small_model(xi),yi)\n",
    "    loss.backward()\n",
    "    optim.step()\n",
    "    if i % (len(x)//10) == 0:\n",
    "        print()\n",
    "        print(i)\n",
    "        print(\"w: \",small_model.weight.item(),\" b: \", small_model.bias.item())\n",
    "        print(\"Loss : \",loss.item())\n",
    "print()\n",
    "print(\"w: \",small_model.weight.item(),\" b: \", small_model.bias.item())\n",
    "print(\"Loss: \",loss.item())"
   ]
  },
  {
   "cell_type": "code",
   "execution_count": 9,
   "metadata": {
    "ExecuteTime": {
     "end_time": "2021-03-03T04:51:06.480801Z",
     "start_time": "2021-03-03T04:51:05.996202Z"
    },
    "colab": {
     "base_uri": "https://localhost:8080/",
     "height": 246
    },
    "executionInfo": {
     "elapsed": 600,
     "status": "ok",
     "timestamp": 1614694402566,
     "user": {
      "displayName": "卓冠宇",
      "photoUrl": "",
      "userId": "05897211297182835965"
     },
     "user_tz": -480
    },
    "id": "z4hud6w1SRm3",
    "outputId": "b2b87625-938c-4246-f899-81f396e5c537"
   },
   "outputs": [
    {
     "data": {
      "image/svg+xml": [
       "<?xml version=\"1.0\" encoding=\"UTF-8\" standalone=\"no\"?>\r\n",
       "<!DOCTYPE svg PUBLIC \"-//W3C//DTD SVG 1.1//EN\"\r\n",
       " \"http://www.w3.org/Graphics/SVG/1.1/DTD/svg11.dtd\">\r\n",
       "<!-- Generated by graphviz version 2.38.0 (20140413.2041)\r\n",
       " -->\r\n",
       "<!-- Title: %3 Pages: 1 -->\r\n",
       "<svg width=\"196pt\" height=\"156pt\"\r\n",
       " viewBox=\"0.00 0.00 195.50 156.00\" xmlns=\"http://www.w3.org/2000/svg\" xmlns:xlink=\"http://www.w3.org/1999/xlink\">\r\n",
       "<g id=\"graph0\" class=\"graph\" transform=\"scale(1 1) rotate(0) translate(4 152)\">\r\n",
       "<title>%3</title>\r\n",
       "<polygon fill=\"white\" stroke=\"none\" points=\"-4,4 -4,-152 191.5,-152 191.5,4 -4,4\"/>\r\n",
       "<!-- 1568785289288 -->\r\n",
       "<g id=\"node1\" class=\"node\"><title>1568785289288</title>\r\n",
       "<polygon fill=\"#caff70\" stroke=\"black\" points=\"156.5,-21 43.5,-21 43.5,-0 156.5,-0 156.5,-21\"/>\r\n",
       "<text text-anchor=\"middle\" x=\"100\" y=\"-7.4\" font-family=\"Times New Roman,serif\" font-size=\"12.00\">ThAddmmBackward</text>\r\n",
       "</g>\r\n",
       "<!-- 1568785292104 -->\r\n",
       "<g id=\"node2\" class=\"node\"><title>1568785292104</title>\r\n",
       "<polygon fill=\"lightgrey\" stroke=\"black\" points=\"98,-78 0,-78 0,-57 98,-57 98,-78\"/>\r\n",
       "<text text-anchor=\"middle\" x=\"49\" y=\"-64.4\" font-family=\"Times New Roman,serif\" font-size=\"12.00\">ExpandBackward</text>\r\n",
       "</g>\r\n",
       "<!-- 1568785292104&#45;&gt;1568785289288 -->\r\n",
       "<g id=\"edge1\" class=\"edge\"><title>1568785292104&#45;&gt;1568785289288</title>\r\n",
       "<path fill=\"none\" stroke=\"black\" d=\"M57.8835,-56.9197C65.0352,-49.2072 75.2753,-38.1639 83.8675,-28.8978\"/>\r\n",
       "<polygon fill=\"black\" stroke=\"black\" points=\"86.6419,-31.0533 90.8749,-21.3408 81.509,-26.2937 86.6419,-31.0533\"/>\r\n",
       "</g>\r\n",
       "<!-- 1568774523976 -->\r\n",
       "<g id=\"node3\" class=\"node\"><title>1568774523976</title>\r\n",
       "<polygon fill=\"lightblue\" stroke=\"black\" points=\"76,-148 22,-148 22,-114 76,-114 76,-148\"/>\r\n",
       "<text text-anchor=\"middle\" x=\"49\" y=\"-134.4\" font-family=\"Times New Roman,serif\" font-size=\"12.00\">bias</text>\r\n",
       "<text text-anchor=\"middle\" x=\"49\" y=\"-121.4\" font-family=\"Times New Roman,serif\" font-size=\"12.00\"> (1)</text>\r\n",
       "</g>\r\n",
       "<!-- 1568774523976&#45;&gt;1568785292104 -->\r\n",
       "<g id=\"edge2\" class=\"edge\"><title>1568774523976&#45;&gt;1568785292104</title>\r\n",
       "<path fill=\"none\" stroke=\"black\" d=\"M49,-113.842C49,-106.012 49,-96.5396 49,-88.2816\"/>\r\n",
       "<polygon fill=\"black\" stroke=\"black\" points=\"52.5001,-88.0419 49,-78.0419 45.5001,-88.0419 52.5001,-88.0419\"/>\r\n",
       "</g>\r\n",
       "<!-- 1568785293256 -->\r\n",
       "<g id=\"node4\" class=\"node\"><title>1568785293256</title>\r\n",
       "<polygon fill=\"lightgrey\" stroke=\"black\" points=\"187.5,-78 116.5,-78 116.5,-57 187.5,-57 187.5,-78\"/>\r\n",
       "<text text-anchor=\"middle\" x=\"152\" y=\"-64.4\" font-family=\"Times New Roman,serif\" font-size=\"12.00\">TBackward</text>\r\n",
       "</g>\r\n",
       "<!-- 1568785293256&#45;&gt;1568785289288 -->\r\n",
       "<g id=\"edge3\" class=\"edge\"><title>1568785293256&#45;&gt;1568785289288</title>\r\n",
       "<path fill=\"none\" stroke=\"black\" d=\"M142.942,-56.9197C135.577,-49.1293 124.998,-37.9405 116.184,-28.6176\"/>\r\n",
       "<polygon fill=\"black\" stroke=\"black\" points=\"118.717,-26.2028 109.304,-21.3408 113.631,-31.0119 118.717,-26.2028\"/>\r\n",
       "</g>\r\n",
       "<!-- 1568785124552 -->\r\n",
       "<g id=\"node5\" class=\"node\"><title>1568785124552</title>\r\n",
       "<polygon fill=\"lightblue\" stroke=\"black\" points=\"179,-148 125,-148 125,-114 179,-114 179,-148\"/>\r\n",
       "<text text-anchor=\"middle\" x=\"152\" y=\"-134.4\" font-family=\"Times New Roman,serif\" font-size=\"12.00\">weight</text>\r\n",
       "<text text-anchor=\"middle\" x=\"152\" y=\"-121.4\" font-family=\"Times New Roman,serif\" font-size=\"12.00\"> (1, 1)</text>\r\n",
       "</g>\r\n",
       "<!-- 1568785124552&#45;&gt;1568785293256 -->\r\n",
       "<g id=\"edge4\" class=\"edge\"><title>1568785124552&#45;&gt;1568785293256</title>\r\n",
       "<path fill=\"none\" stroke=\"black\" d=\"M152,-113.842C152,-106.012 152,-96.5396 152,-88.2816\"/>\r\n",
       "<polygon fill=\"black\" stroke=\"black\" points=\"155.5,-88.0419 152,-78.0419 148.5,-88.0419 155.5,-88.0419\"/>\r\n",
       "</g>\r\n",
       "</g>\r\n",
       "</svg>\r\n"
      ],
      "text/plain": [
       "<graphviz.dot.Digraph at 0x16d42e3da08>"
      ]
     },
     "execution_count": 9,
     "metadata": {},
     "output_type": "execute_result"
    }
   ],
   "source": [
    "x_final = torch.FloatTensor([x[-1]])\n",
    "make_dot(small_model(x_final), params=dict(small_model.named_parameters()))"
   ]
  },
  {
   "cell_type": "markdown",
   "metadata": {
    "id": "AmTH10YFOGjT"
   },
   "source": [
    "## 固定某 nn 的變量去求 grandient descent"
   ]
  },
  {
   "cell_type": "code",
   "execution_count": 10,
   "metadata": {
    "ExecuteTime": {
     "end_time": "2021-03-03T04:51:07.962802Z",
     "start_time": "2021-03-03T04:51:06.482801Z"
    },
    "colab": {
     "base_uri": "https://localhost:8080/"
    },
    "executionInfo": {
     "elapsed": 2829,
     "status": "ok",
     "timestamp": 1614694408863,
     "user": {
      "displayName": "卓冠宇",
      "photoUrl": "",
      "userId": "05897211297182835965"
     },
     "user_tz": -480
    },
    "id": "Wm6AucXTEkTb",
    "outputId": "afa071ae-d13c-48bf-9a48-47bdfc5516ca",
    "scrolled": true
   },
   "outputs": [
    {
     "name": "stdout",
     "output_type": "stream",
     "text": [
      "w:  -0.5506856441497803  b:  0.06577181816101074\n",
      "\n",
      "0\n",
      "w:  -0.5469626784324646  b:  0.06577181816101074\n",
      "Loss :  5.9508442878723145\n",
      "\n",
      "1000\n",
      "w:  7.946437835693359  b:  0.06577181816101074\n",
      "Loss :  4.316828727722168\n",
      "\n",
      "2000\n",
      "w:  7.934015274047852  b:  0.06577181816101074\n",
      "Loss :  0.08535776287317276\n",
      "\n",
      "3000\n",
      "w:  7.922224998474121  b:  0.06577181816101074\n",
      "Loss :  0.1916053146123886\n",
      "\n",
      "4000\n",
      "w:  7.888660907745361  b:  0.06577181816101074\n",
      "Loss :  0.12165824323892593\n",
      "\n",
      "5000\n",
      "w:  7.868988990783691  b:  0.06577181816101074\n",
      "Loss :  0.4885231852531433\n",
      "\n",
      "6000\n",
      "w:  7.862735271453857  b:  0.06577181816101074\n",
      "Loss :  3.255232810974121\n",
      "\n",
      "7000\n",
      "w:  7.800544261932373  b:  0.06577181816101074\n",
      "Loss :  0.2031242996454239\n",
      "\n",
      "8000\n",
      "w:  7.913956165313721  b:  0.06577181816101074\n",
      "Loss :  0.11175747215747833\n",
      "\n",
      "9000\n",
      "w:  7.9298200607299805  b:  0.06577181816101074\n",
      "Loss :  1.6442614793777466\n",
      "\n",
      "w:  7.824228286743164  b:  0.06577181816101074\n",
      "Loss:  2.6078619956970215\n"
     ]
    }
   ],
   "source": [
    "small_model = nn.Linear(1, 1)\n",
    "small_model.bias.requires_grad = False \n",
    "optim = torch.optim.SGD(\n",
    "    small_model.parameters(), lr=1e-2)\n",
    "mse_loss = nn.MSELoss()\n",
    "print(\"w: \",small_model.weight.item(),\" b: \", small_model.bias.item())\n",
    "# 66次 gd\n",
    "#for i in range(66):\n",
    "\n",
    "for i in range(len(x)):\n",
    "    optim.zero_grad()\n",
    "    xi = torch.FloatTensor([x[i]])\n",
    "    yi = torch.FloatTensor([y[i]])\n",
    "    loss = mse_loss(small_model(xi),yi)\n",
    "    loss.backward()\n",
    "    optim.step()\n",
    "    if i % (len(x)//10) == 0:\n",
    "        print()\n",
    "        print(i)\n",
    "        print(\"w: \",small_model.weight.item(),\" b: \", small_model.bias.item())\n",
    "        print(\"Loss : \",loss.item())\n",
    "print()\n",
    "print(\"w: \",small_model.weight.item(),\" b: \", small_model.bias.item())\n",
    "print(\"Loss: \",loss.item())"
   ]
  },
  {
   "cell_type": "code",
   "execution_count": 11,
   "metadata": {
    "ExecuteTime": {
     "end_time": "2021-03-03T04:51:08.074802Z",
     "start_time": "2021-03-03T04:51:07.964802Z"
    },
    "colab": {
     "base_uri": "https://localhost:8080/",
     "height": 229
    },
    "executionInfo": {
     "elapsed": 480,
     "status": "ok",
     "timestamp": 1614694410074,
     "user": {
      "displayName": "卓冠宇",
      "photoUrl": "",
      "userId": "05897211297182835965"
     },
     "user_tz": -480
    },
    "id": "8iGkOvUcPvNH",
    "outputId": "ebcff7d3-348f-4d4b-bd19-cb630bfcc1e9",
    "scrolled": true
   },
   "outputs": [
    {
     "data": {
      "image/svg+xml": [
       "<?xml version=\"1.0\" encoding=\"UTF-8\" standalone=\"no\"?>\r\n",
       "<!DOCTYPE svg PUBLIC \"-//W3C//DTD SVG 1.1//EN\"\r\n",
       " \"http://www.w3.org/Graphics/SVG/1.1/DTD/svg11.dtd\">\r\n",
       "<!-- Generated by graphviz version 2.38.0 (20140413.2041)\r\n",
       " -->\r\n",
       "<!-- Title: %3 Pages: 1 -->\r\n",
       "<svg width=\"121pt\" height=\"156pt\"\r\n",
       " viewBox=\"0.00 0.00 121.00 156.00\" xmlns=\"http://www.w3.org/2000/svg\" xmlns:xlink=\"http://www.w3.org/1999/xlink\">\r\n",
       "<g id=\"graph0\" class=\"graph\" transform=\"scale(1 1) rotate(0) translate(4 152)\">\r\n",
       "<title>%3</title>\r\n",
       "<polygon fill=\"white\" stroke=\"none\" points=\"-4,4 -4,-152 117,-152 117,4 -4,4\"/>\r\n",
       "<!-- 1568785023688 -->\r\n",
       "<g id=\"node1\" class=\"node\"><title>1568785023688</title>\r\n",
       "<polygon fill=\"#caff70\" stroke=\"black\" points=\"113,-21 0,-21 0,-0 113,-0 113,-21\"/>\r\n",
       "<text text-anchor=\"middle\" x=\"56.5\" y=\"-7.4\" font-family=\"Times New Roman,serif\" font-size=\"12.00\">ThAddmmBackward</text>\r\n",
       "</g>\r\n",
       "<!-- 1568785024520 -->\r\n",
       "<g id=\"node2\" class=\"node\"><title>1568785024520</title>\r\n",
       "<polygon fill=\"lightgrey\" stroke=\"black\" points=\"92,-78 21,-78 21,-57 92,-57 92,-78\"/>\r\n",
       "<text text-anchor=\"middle\" x=\"56.5\" y=\"-64.4\" font-family=\"Times New Roman,serif\" font-size=\"12.00\">TBackward</text>\r\n",
       "</g>\r\n",
       "<!-- 1568785024520&#45;&gt;1568785023688 -->\r\n",
       "<g id=\"edge1\" class=\"edge\"><title>1568785024520&#45;&gt;1568785023688</title>\r\n",
       "<path fill=\"none\" stroke=\"black\" d=\"M56.5,-56.9197C56.5,-49.9083 56.5,-40.1442 56.5,-31.4652\"/>\r\n",
       "<polygon fill=\"black\" stroke=\"black\" points=\"60.0001,-31.3408 56.5,-21.3408 53.0001,-31.3409 60.0001,-31.3408\"/>\r\n",
       "</g>\r\n",
       "<!-- 1568801902984 -->\r\n",
       "<g id=\"node3\" class=\"node\"><title>1568801902984</title>\r\n",
       "<polygon fill=\"lightblue\" stroke=\"black\" points=\"83.5,-148 29.5,-148 29.5,-114 83.5,-114 83.5,-148\"/>\r\n",
       "<text text-anchor=\"middle\" x=\"56.5\" y=\"-134.4\" font-family=\"Times New Roman,serif\" font-size=\"12.00\">weight</text>\r\n",
       "<text text-anchor=\"middle\" x=\"56.5\" y=\"-121.4\" font-family=\"Times New Roman,serif\" font-size=\"12.00\"> (1, 1)</text>\r\n",
       "</g>\r\n",
       "<!-- 1568801902984&#45;&gt;1568785024520 -->\r\n",
       "<g id=\"edge2\" class=\"edge\"><title>1568801902984&#45;&gt;1568785024520</title>\r\n",
       "<path fill=\"none\" stroke=\"black\" d=\"M56.5,-113.842C56.5,-106.012 56.5,-96.5396 56.5,-88.2816\"/>\r\n",
       "<polygon fill=\"black\" stroke=\"black\" points=\"60.0001,-88.0419 56.5,-78.0419 53.0001,-88.0419 60.0001,-88.0419\"/>\r\n",
       "</g>\r\n",
       "</g>\r\n",
       "</svg>\r\n"
      ],
      "text/plain": [
       "<graphviz.dot.Digraph at 0x16d42e14cc8>"
      ]
     },
     "execution_count": 11,
     "metadata": {},
     "output_type": "execute_result"
    }
   ],
   "source": [
    "x_final = torch.FloatTensor([x[-1]])\n",
    "make_dot(small_model(x_final), params=dict(small_model.named_parameters()))"
   ]
  },
  {
   "cell_type": "code",
   "execution_count": 19,
   "metadata": {
    "ExecuteTime": {
     "end_time": "2021-03-03T04:53:07.114866Z",
     "start_time": "2021-03-03T04:53:07.097862Z"
    },
    "scrolled": true
   },
   "outputs": [
    {
     "ename": "RuntimeError",
     "evalue": "Expected object of type torch.FloatTensor but found type torch.DoubleTensor for argument #2 'other'",
     "output_type": "error",
     "traceback": [
      "\u001b[1;31m---------------------------------------------------------------------------\u001b[0m",
      "\u001b[1;31mRuntimeError\u001b[0m                              Traceback (most recent call last)",
      "\u001b[1;32m<ipython-input-19-ae672caf3792>\u001b[0m in \u001b[0;36m<module>\u001b[1;34m\u001b[0m\n\u001b[1;32m----> 1\u001b[1;33m \u001b[0mw\u001b[0m \u001b[1;33m*\u001b[0m  \u001b[0mtorch\u001b[0m\u001b[1;33m.\u001b[0m\u001b[0mfrom_numpy\u001b[0m\u001b[1;33m(\u001b[0m\u001b[0mx\u001b[0m\u001b[1;33m)\u001b[0m\u001b[1;33m\u001b[0m\u001b[1;33m\u001b[0m\u001b[0m\n\u001b[0m",
      "\u001b[1;31mRuntimeError\u001b[0m: Expected object of type torch.FloatTensor but found type torch.DoubleTensor for argument #2 'other'"
     ]
    }
   ],
   "source": [
    " w *  torch.from_numpy(x)"
   ]
  },
  {
   "cell_type": "code",
   "execution_count": 13,
   "metadata": {
    "ExecuteTime": {
     "end_time": "2021-03-03T04:52:08.049848Z",
     "start_time": "2021-03-03T04:52:08.021837Z"
    },
    "colab": {
     "base_uri": "https://localhost:8080/"
    },
    "executionInfo": {
     "elapsed": 695,
     "status": "ok",
     "timestamp": 1614694840744,
     "user": {
      "displayName": "卓冠宇",
      "photoUrl": "",
      "userId": "05897211297182835965"
     },
     "user_tz": -480
    },
    "id": "xYvm97tfSWUw",
    "outputId": "bff92264-56ab-4264-ec4b-270c0daffae6"
   },
   "outputs": [
    {
     "name": "stdout",
     "output_type": "stream",
     "text": [
      "tensor([-0.1468], requires_grad=True) tensor([0.7861], requires_grad=True)\n"
     ]
    },
    {
     "ename": "RuntimeError",
     "evalue": "Expected object of type torch.FloatTensor but found type torch.DoubleTensor for argument #2 'other'",
     "output_type": "error",
     "traceback": [
      "\u001b[1;31m---------------------------------------------------------------------------\u001b[0m",
      "\u001b[1;31mRuntimeError\u001b[0m                              Traceback (most recent call last)",
      "\u001b[1;32m<ipython-input-13-8c10874727b8>\u001b[0m in \u001b[0;36m<module>\u001b[1;34m\u001b[0m\n\u001b[0;32m      9\u001b[0m \u001b[0moptimizer\u001b[0m \u001b[1;33m=\u001b[0m \u001b[0moptim\u001b[0m\u001b[1;33m.\u001b[0m\u001b[0mSGD\u001b[0m\u001b[1;33m(\u001b[0m\u001b[1;33m[\u001b[0m\u001b[0mw\u001b[0m\u001b[1;33m,\u001b[0m\u001b[0mb\u001b[0m\u001b[1;33m]\u001b[0m\u001b[1;33m,\u001b[0m \u001b[0mlr\u001b[0m\u001b[1;33m=\u001b[0m\u001b[0mlr\u001b[0m\u001b[1;33m)\u001b[0m\u001b[1;33m\u001b[0m\u001b[1;33m\u001b[0m\u001b[0m\n\u001b[0;32m     10\u001b[0m \u001b[1;32mfor\u001b[0m \u001b[0mepoch\u001b[0m \u001b[1;32min\u001b[0m \u001b[0mrange\u001b[0m\u001b[1;33m(\u001b[0m\u001b[0mepochs\u001b[0m\u001b[1;33m)\u001b[0m\u001b[1;33m:\u001b[0m\u001b[1;33m\u001b[0m\u001b[1;33m\u001b[0m\u001b[0m\n\u001b[1;32m---> 11\u001b[1;33m     \u001b[0myhat\u001b[0m \u001b[1;33m=\u001b[0m \u001b[0mb\u001b[0m \u001b[1;33m+\u001b[0m \u001b[0mw\u001b[0m \u001b[1;33m*\u001b[0m \u001b[0mtorch\u001b[0m\u001b[1;33m.\u001b[0m\u001b[0mfrom_numpy\u001b[0m\u001b[1;33m(\u001b[0m\u001b[0mx\u001b[0m\u001b[1;33m)\u001b[0m\u001b[1;33m\u001b[0m\u001b[1;33m\u001b[0m\u001b[0m\n\u001b[0m\u001b[0;32m     12\u001b[0m     \u001b[0mprint\u001b[0m\u001b[1;33m(\u001b[0m\u001b[0myhat\u001b[0m\u001b[1;33m)\u001b[0m\u001b[1;33m\u001b[0m\u001b[1;33m\u001b[0m\u001b[0m\n\u001b[0;32m     13\u001b[0m     \u001b[0mprint\u001b[0m\u001b[1;33m(\u001b[0m\u001b[1;33m)\u001b[0m\u001b[1;33m\u001b[0m\u001b[1;33m\u001b[0m\u001b[0m\n",
      "\u001b[1;31mRuntimeError\u001b[0m: Expected object of type torch.FloatTensor but found type torch.DoubleTensor for argument #2 'other'"
     ]
    }
   ],
   "source": [
    "from torch import optim\n",
    "torch.manual_seed(7)\n",
    "w = torch.randn(1, requires_grad=True)\n",
    "b = torch.randn(1, requires_grad=True)\n",
    "print(w,b)\n",
    "lr = 1e-1\n",
    "epochs = 5\n",
    "# 指定我們的優化器為 SGD\n",
    "optimizer = optim.SGD([w,b], lr=lr)\n",
    "for epoch in range(epochs):\n",
    "    yhat = b + w * torch.from_numpy(x)\n",
    "    print(yhat)\n",
    "    print()\n",
    "    error = torch.from_numpy(y) - yhat\n",
    "    loss = (error ** 2).mean()\n",
    "    loss.backward()    \n",
    "    \n",
    "    # 不用手動更新梯度\n",
    "    # a -= lr * a.grad\n",
    "    # b -= lr * b.grad\n",
    "    optimizer.step()\n",
    "    \n",
    "    # 不用自己將梯度清零\n",
    "    # a.grad.zero_()\n",
    "    # b.grad.zero_()\n",
    "    optimizer.zero_grad()\n",
    "    \n",
    "print(w,b)"
   ]
  },
  {
   "cell_type": "code",
   "execution_count": null,
   "metadata": {
    "id": "PB6GgcL9YIuP"
   },
   "outputs": [],
   "source": []
  },
  {
   "cell_type": "markdown",
   "metadata": {
    "id": "ivaWN8raYJS-"
   },
   "source": [
    "# CNN"
   ]
  },
  {
   "cell_type": "code",
   "execution_count": 20,
   "metadata": {
    "ExecuteTime": {
     "end_time": "2021-03-03T04:53:17.297864Z",
     "start_time": "2021-03-03T04:53:17.285849Z"
    },
    "colab": {
     "base_uri": "https://localhost:8080/"
    },
    "executionInfo": {
     "elapsed": 601,
     "status": "ok",
     "timestamp": 1614697750704,
     "user": {
      "displayName": "卓冠宇",
      "photoUrl": "",
      "userId": "05897211297182835965"
     },
     "user_tz": -480
    },
    "id": "H2NW2-46TJjT",
    "outputId": "d52a20c8-b411-4543-a4e3-891d0439125b"
   },
   "outputs": [
    {
     "name": "stdout",
     "output_type": "stream",
     "text": [
      "\n",
      "Conv2d(1, 1, kernel_size=(3, 3), stride=(1, 1))\n",
      "\n",
      "Parameter containing:\n",
      "tensor([[[[-0.1782, -0.0500, -0.1953],\n",
      "          [ 0.0865, -0.0898,  0.2342],\n",
      "          [ 0.2366,  0.0340, -0.1421]]]], requires_grad=True)\n",
      "\n",
      "Parameter containing:\n",
      "tensor([-0.1958], requires_grad=True)\n",
      "\n"
     ]
    }
   ],
   "source": [
    "m = nn.Conv2d(1,1,3)\n",
    "cho_p(m, m.weight, m.bias)"
   ]
  },
  {
   "cell_type": "code",
   "execution_count": 21,
   "metadata": {
    "ExecuteTime": {
     "end_time": "2021-03-03T04:53:17.313898Z",
     "start_time": "2021-03-03T04:53:17.299863Z"
    },
    "colab": {
     "base_uri": "https://localhost:8080/"
    },
    "executionInfo": {
     "elapsed": 675,
     "status": "ok",
     "timestamp": 1614702513834,
     "user": {
      "displayName": "卓冠宇",
      "photoUrl": "",
      "userId": "05897211297182835965"
     },
     "user_tz": -480
    },
    "id": "Qh-J2NJ5ftra",
    "outputId": "b368bae9-80bc-4fb9-aac7-d6ec314cd429"
   },
   "outputs": [
    {
     "data": {
      "text/plain": [
       "tensor([[[[1., 1., 1., 1., 1., 1.],\n",
       "          [1., 1., 1., 1., 1., 1.],\n",
       "          [1., 1., 1., 1., 1., 1.],\n",
       "          [1., 1., 1., 1., 1., 1.],\n",
       "          [1., 1., 1., 1., 1., 1.],\n",
       "          [1., 1., 1., 1., 1., 1.]]]])"
      ]
     },
     "execution_count": 21,
     "metadata": {},
     "output_type": "execute_result"
    }
   ],
   "source": [
    "input = torch.randn(1,1,6,6).zero_()\n",
    "input = torch.ones(1,1,6,6)\n",
    "input"
   ]
  },
  {
   "cell_type": "code",
   "execution_count": 22,
   "metadata": {
    "ExecuteTime": {
     "end_time": "2021-03-03T04:53:17.344882Z",
     "start_time": "2021-03-03T04:53:17.316881Z"
    },
    "colab": {
     "base_uri": "https://localhost:8080/"
    },
    "executionInfo": {
     "elapsed": 445,
     "status": "ok",
     "timestamp": 1614702452191,
     "user": {
      "displayName": "卓冠宇",
      "photoUrl": "",
      "userId": "05897211297182835965"
     },
     "user_tz": -480
    },
    "id": "uioQjyH7wmJ4",
    "outputId": "011c6000-31b9-4aed-9029-c4f2ea6e9225"
   },
   "outputs": [
    {
     "data": {
      "text/plain": [
       "tensor([[0.0625, 0.1250, 0.0625],\n",
       "        [0.1250, 0.2500, 0.1250],\n",
       "        [0.0625, 0.1250, 0.0625]])"
      ]
     },
     "execution_count": 22,
     "metadata": {},
     "output_type": "execute_result"
    }
   ],
   "source": [
    "gaussian_kernel = torch.tensor([[1., 2, 1],[2, 4, 2],[1, 2, 1]]) / 16.0\n",
    "gaussian_kernel"
   ]
  },
  {
   "cell_type": "code",
   "execution_count": 23,
   "metadata": {
    "ExecuteTime": {
     "end_time": "2021-03-03T04:53:17.375886Z",
     "start_time": "2021-03-03T04:53:17.346882Z"
    },
    "colab": {
     "base_uri": "https://localhost:8080/"
    },
    "executionInfo": {
     "elapsed": 525,
     "status": "ok",
     "timestamp": 1614702516136,
     "user": {
      "displayName": "卓冠宇",
      "photoUrl": "",
      "userId": "05897211297182835965"
     },
     "user_tz": -480
    },
    "id": "gaziu05ifGr_",
    "outputId": "5db1bd97-6069-447c-a09f-5af8f88510e4"
   },
   "outputs": [
    {
     "name": "stdout",
     "output_type": "stream",
     "text": [
      "\n",
      "Conv2d(1, 1, kernel_size=(3, 3), stride=(1, 1))\n",
      "\n",
      "Parameter containing:\n",
      "tensor([[[[0.0625, 0.1250, 0.0625],\n",
      "          [0.1250, 0.2500, 0.1250],\n",
      "          [0.0625, 0.1250, 0.0625]]]], requires_grad=True)\n",
      "\n",
      "Parameter containing:\n",
      "tensor([0.3145], requires_grad=True)\n",
      "\n"
     ]
    },
    {
     "data": {
      "text/plain": [
       "tensor([[[[1.3145, 1.3145, 1.3145, 1.3145],\n",
       "          [1.3145, 1.3145, 1.3145, 1.3145],\n",
       "          [1.3145, 1.3145, 1.3145, 1.3145],\n",
       "          [1.3145, 1.3145, 1.3145, 1.3145]]]], grad_fn=<ThnnConv2DBackward>)"
      ]
     },
     "execution_count": 23,
     "metadata": {},
     "output_type": "execute_result"
    }
   ],
   "source": [
    "m = nn.Conv2d(1,1,3)\n",
    "m.weight.data[:] = gaussian_kernel #torch.ones(1,1,3,3)\n",
    "cho_p(m, m.weight, m.bias)\n",
    "m(input)"
   ]
  },
  {
   "cell_type": "code",
   "execution_count": 24,
   "metadata": {
    "ExecuteTime": {
     "end_time": "2021-03-03T04:53:17.407883Z",
     "start_time": "2021-03-03T04:53:17.378885Z"
    },
    "colab": {
     "base_uri": "https://localhost:8080/"
    },
    "executionInfo": {
     "elapsed": 423,
     "status": "ok",
     "timestamp": 1614699763501,
     "user": {
      "displayName": "卓冠宇",
      "photoUrl": "",
      "userId": "05897211297182835965"
     },
     "user_tz": -480
    },
    "id": "E-nLCJbQgx-l",
    "outputId": "c516809e-3319-4a94-d82e-82f1821d9d7f",
    "scrolled": true
   },
   "outputs": [
    {
     "name": "stdout",
     "output_type": "stream",
     "text": [
      "\n",
      "tensor([])\n",
      "\n",
      "tensor([-0.0773])\n",
      "\n",
      "tensor([-0.9224, -1.8941])\n",
      "\n",
      "tensor([[1.0056]])\n",
      "\n",
      "tensor([[-0.6948,  0.9062],\n",
      "        [ 0.1072,  0.6125]])\n",
      "\n",
      "tensor([[[ 0.3296, -0.8763],\n",
      "         [-1.6768, -0.7247]]])\n",
      "\n",
      "tensor([[[[0.9634]]]])\n",
      "\n"
     ]
    }
   ],
   "source": [
    "cho_p(torch.randn(0),torch.randn(1),torch.randn(2),torch.randn(1,1),torch.randn(2,2),torch.randn(1,2,2),torch.randn(1,1,1,1))"
   ]
  },
  {
   "cell_type": "code",
   "execution_count": null,
   "metadata": {},
   "outputs": [],
   "source": []
  }
 ],
 "metadata": {
  "colab": {
   "authorship_tag": "ABX9TyPbhmOUjRenAaIKee/By5Zi",
   "collapsed_sections": [],
   "name": "Untitled0.ipynb",
   "provenance": []
  },
  "kernelspec": {
   "display_name": "Python 3",
   "language": "python",
   "name": "python3"
  },
  "language_info": {
   "codemirror_mode": {
    "name": "ipython",
    "version": 3
   },
   "file_extension": ".py",
   "mimetype": "text/x-python",
   "name": "python",
   "nbconvert_exporter": "python",
   "pygments_lexer": "ipython3",
   "version": "3.7.4"
  },
  "latex_envs": {
   "LaTeX_envs_menu_present": true,
   "autoclose": true,
   "autocomplete": true,
   "bibliofile": "biblio.bib",
   "cite_by": "apalike",
   "current_citInitial": 1,
   "eqLabelWithNumbers": true,
   "eqNumInitial": 1,
   "hotkeys": {
    "equation": "Ctrl-E",
    "itemize": "Ctrl-I"
   },
   "labels_anchors": false,
   "latex_user_defs": false,
   "report_style_numbering": false,
   "user_envs_cfg": false
  },
  "toc": {
   "base_numbering": 1,
   "nav_menu": {},
   "number_sections": true,
   "sideBar": true,
   "skip_h1_title": false,
   "title_cell": "Table of Contents",
   "title_sidebar": "Contents",
   "toc_cell": false,
   "toc_position": {},
   "toc_section_display": true,
   "toc_window_display": false
  },
  "varInspector": {
   "cols": {
    "lenName": 16,
    "lenType": 16,
    "lenVar": 40
   },
   "kernels_config": {
    "python": {
     "delete_cmd_postfix": "",
     "delete_cmd_prefix": "del ",
     "library": "var_list.py",
     "varRefreshCmd": "print(var_dic_list())"
    },
    "r": {
     "delete_cmd_postfix": ") ",
     "delete_cmd_prefix": "rm(",
     "library": "var_list.r",
     "varRefreshCmd": "cat(var_dic_list()) "
    }
   },
   "types_to_exclude": [
    "module",
    "function",
    "builtin_function_or_method",
    "instance",
    "_Feature"
   ],
   "window_display": false
  }
 },
 "nbformat": 4,
 "nbformat_minor": 1
}
